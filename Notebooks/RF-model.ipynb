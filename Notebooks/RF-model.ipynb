{
 "cells": [
  {
   "cell_type": "code",
   "execution_count": 4,
   "metadata": {},
   "outputs": [],
   "source": [
    "import pandas as pd\n",
    "import numpy as np\n",
    "from sklearn.ensemble import RandomForestClassifier\n",
    "from sklearn.metrics import accuracy_score, classification_report, confusion_matrix"
   ]
  },
  {
   "cell_type": "code",
   "execution_count": 5,
   "metadata": {},
   "outputs": [],
   "source": [
    "# Load train and test data\n",
    "data_train = pd.read_csv(\"../data/universal_train_data.csv\")\n",
    "data_test = pd.read_csv(\"../data/universal_test_data.csv\")\n",
    "\n",
    "# Separate features and target variable\n",
    "X_train = data_train.drop(columns=[\"Physical Activity Status\"])  # Drop target column\n",
    "y_train = data_train[\"Physical Activity Status\"]                 # Target column\n",
    "\n",
    "X_test = data_test.drop(columns=[\"Physical Activity Status\"])\n",
    "y_test = data_test[\"Physical Activity Status\"]"
   ]
  },
  {
   "cell_type": "code",
   "execution_count": 6,
   "metadata": {},
   "outputs": [],
   "source": [
    "# Encode categorical variables (e.g., Gender, Smoking Status)\n",
    "X_train = pd.get_dummies(X_train, drop_first=True)\n",
    "X_test = pd.get_dummies(X_test, drop_first=True)\n",
    "\n",
    "# Ensure train and test datasets have the same columns after encoding\n",
    "X_test = X_test.reindex(columns=X_train.columns, fill_value=0)"
   ]
  },
  {
   "cell_type": "code",
   "execution_count": 7,
   "metadata": {},
   "outputs": [],
   "source": [
    "# Initialize the Random Forest model\n",
    "rf_model = RandomForestClassifier(n_estimators=100, random_state=42)\n",
    "\n",
    "# Train the model\n",
    "rf_model.fit(X_train, y_train)\n",
    "\n",
    "# Predict on the test set\n",
    "y_pred = rf_model.predict(X_test)"
   ]
  },
  {
   "cell_type": "code",
   "execution_count": 8,
   "metadata": {},
   "outputs": [
    {
     "name": "stdout",
     "output_type": "stream",
     "text": [
      "Random Forest Accuracy: 0.8294\n",
      "Classification Report:\n",
      "              precision    recall  f1-score   support\n",
      "\n",
      "           0       0.85      0.95      0.90      3977\n",
      "           1       0.65      0.39      0.49      1051\n",
      "\n",
      "    accuracy                           0.83      5028\n",
      "   macro avg       0.75      0.67      0.69      5028\n",
      "weighted avg       0.81      0.83      0.81      5028\n",
      "\n",
      "Confusion Matrix:\n",
      "[[3761  216]\n",
      " [ 642  409]]\n"
     ]
    }
   ],
   "source": [
    "# Calculate and print accuracy\n",
    "accuracy = accuracy_score(y_test, y_pred)\n",
    "print(f\"Random Forest Accuracy: {accuracy:.4f}\")\n",
    "\n",
    "# Print classification report\n",
    "print(\"Classification Report:\")\n",
    "print(classification_report(y_test, y_pred))\n",
    "\n",
    "# Display confusion matrix\n",
    "print(\"Confusion Matrix:\")\n",
    "print(confusion_matrix(y_test, y_pred))"
   ]
  },
  {
   "cell_type": "code",
   "execution_count": 9,
   "metadata": {},
   "outputs": [
    {
     "name": "stdout",
     "output_type": "stream",
     "text": [
      "                     Feature  Importance\n",
      "1                        Age    0.197160\n",
      "4                        BMI    0.175963\n",
      "3       Income Poverty Ratio    0.095053\n",
      "12     Unhealthy Food Intake    0.064573\n",
      "11       Healthy Food Intake    0.063801\n",
      "10            Protein Intake    0.059561\n",
      "2             Household Size    0.057499\n",
      "9          Restaurant Visits    0.057493\n",
      "14          Milk Consumption    0.054057\n",
      "13      Beverage Consumption    0.047649\n",
      "0                     Gender    0.046848\n",
      "8      General Health Status    0.039172\n",
      "7             Smoking Status    0.018542\n",
      "5              Diet Question    0.014520\n",
      "6   Diet Question Annotation    0.008109\n"
     ]
    }
   ],
   "source": [
    "# Get feature importance\n",
    "feature_importances = rf_model.feature_importances_\n",
    "feature_importances_df = pd.DataFrame({\n",
    "    \"Feature\": X_train.columns,\n",
    "    \"Importance\": feature_importances\n",
    "}).sort_values(by=\"Importance\", ascending=False)\n",
    "\n",
    "print(feature_importances_df)"
   ]
  },
  {
   "cell_type": "code",
   "execution_count": null,
   "metadata": {},
   "outputs": [],
   "source": []
  }
 ],
 "metadata": {
  "kernelspec": {
   "display_name": "Python 3",
   "language": "python",
   "name": "python3"
  },
  "language_info": {
   "codemirror_mode": {
    "name": "ipython",
    "version": 3
   },
   "file_extension": ".py",
   "mimetype": "text/x-python",
   "name": "python",
   "nbconvert_exporter": "python",
   "pygments_lexer": "ipython3",
   "version": "3.12.0"
  }
 },
 "nbformat": 4,
 "nbformat_minor": 2
}
